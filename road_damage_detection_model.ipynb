{
  "nbformat": 4,
  "nbformat_minor": 0,
  "metadata": {
    "colab": {
      "provenance": [],
      "gpuType": "T4",
      "include_colab_link": true
    },
    "kernelspec": {
      "name": "python3",
      "display_name": "Python 3"
    },
    "language_info": {
      "name": "python"
    },
    "accelerator": "GPU"
  },
  "cells": [
    {
      "cell_type": "markdown",
      "metadata": {
        "id": "view-in-github",
        "colab_type": "text"
      },
      "source": [
        "<a href=\"https://colab.research.google.com/github/fatrrr/PANTURA-C23-PC596_machine_learning/blob/main/road_damage_detection_model.ipynb\" target=\"_parent\"><img src=\"https://colab.research.google.com/assets/colab-badge.svg\" alt=\"Open In Colab\"/></a>"
      ]
    },
    {
      "cell_type": "code",
      "source": [
        "try:\n",
        "    %tensorflow_version 2.x\n",
        "except:\n",
        "    pass"
      ],
      "metadata": {
        "colab": {
          "base_uri": "https://localhost:8080/"
        },
        "id": "7ZTsZfNR-ixk",
        "outputId": "4721be13-60d5-43f3-b1e0-af91af18b19e"
      },
      "execution_count": null,
      "outputs": [
        {
          "output_type": "stream",
          "name": "stdout",
          "text": [
            "Colab only includes TensorFlow 2.x; %tensorflow_version has no effect.\n"
          ]
        }
      ]
    },
    {
      "cell_type": "code",
      "source": [],
      "metadata": {
        "id": "Xiy20Enz4YmV"
      },
      "execution_count": null,
      "outputs": []
    },
    {
      "cell_type": "code",
      "execution_count": null,
      "metadata": {
        "id": "zk4sDfey0mHc"
      },
      "outputs": [],
      "source": [
        "\n",
        "import tensorflow as tf\n",
        "import tensorflow_hub as hub\n",
        "import numpy as np\n",
        "import matplotlib as plt\n",
        "import os\n",
        "import cv2\n",
        "import sklearn\n",
        "from sklearn.metrics import precision_score, recall_score, f1_score"
      ]
    },
    {
      "cell_type": "code",
      "source": [
        "#Connect to Google Drive\n",
        "from google.colab import drive\n",
        "drive.mount('/content/drive')"
      ],
      "metadata": {
        "colab": {
          "base_uri": "https://localhost:8080/"
        },
        "id": "9Hj36wwq7ePl",
        "outputId": "56a16736-837c-4138-cc9b-fc90d7b4d511"
      },
      "execution_count": null,
      "outputs": [
        {
          "output_type": "stream",
          "name": "stdout",
          "text": [
            "Mounted at /content/drive\n"
          ]
        }
      ]
    },
    {
      "cell_type": "code",
      "source": [
        "'''\n",
        "import zipfile\n",
        "zip_dir = \"/content/drive/Shareddrives/Pantura/colab_notebook/road_damage_prioritize_dataset.zip\"\n",
        "destination_dir= \"/content/drive/Shareddrives/Pantura/colab_notebook/\"\n",
        "\n",
        "with zipfile.ZipFile(zip_dir, 'r') as zip_ref:\n",
        "  zip_ref.extractall(destination_dir)\n",
        "\n",
        "zip_ref.close()\n",
        "'''"
      ],
      "metadata": {
        "colab": {
          "base_uri": "https://localhost:8080/",
          "height": 53
        },
        "id": "bE-9rG4S0zGt",
        "outputId": "9e62d78d-00cf-44cb-ed58-e9b84c3a01f3"
      },
      "execution_count": null,
      "outputs": [
        {
          "output_type": "execute_result",
          "data": {
            "text/plain": [
              "'\\nimport zipfile\\nzip_dir = \"/content/drive/Shareddrives/Pantura/colab_notebook/road_damage_prioritize_dataset.zip\"\\ndestination_dir= \"/content/drive/Shareddrives/Pantura/colab_notebook/\"\\n\\nwith zipfile.ZipFile(zip_dir, \\'r\\') as zip_ref:\\n  zip_ref.extractall(destination_dir)\\n\\nzip_ref.close()\\n'"
            ],
            "application/vnd.google.colaboratory.intrinsic+json": {
              "type": "string"
            }
          },
          "metadata": {},
          "execution_count": 4
        }
      ]
    },
    {
      "cell_type": "markdown",
      "source": [
        "**Transfer Learning**"
      ],
      "metadata": {
        "id": "t0BeVquiFnW8"
      }
    },
    {
      "cell_type": "code",
      "source": [
        "'''\n",
        "m = tf.keras.Sequential([\n",
        "    hub.KerasLayer(\"https://tfhub.dev/tensorflow/efficientnet/b0/feature-vector/1\",\n",
        "                   trainable=False),  # Can be True, see below.\n",
        "    tf.keras.layers.Dense(num_classes, activation='softmax')\n",
        "])\n",
        "m.build([None, expect_img_size, expect_img_size, 3])  # Batch input shape.\n",
        "'''"
      ],
      "metadata": {
        "id": "LBsKlUSsRzFS",
        "colab": {
          "base_uri": "https://localhost:8080/",
          "height": 53
        },
        "outputId": "07a36f9b-aa94-41b2-d80b-070f929d2bd9"
      },
      "execution_count": null,
      "outputs": [
        {
          "output_type": "execute_result",
          "data": {
            "text/plain": [
              "'\\nm = tf.keras.Sequential([\\n\\xa0 \\xa0 hub.KerasLayer(\"https://tfhub.dev/tensorflow/efficientnet/b0/feature-vector/1\",\\n\\xa0 \\xa0 \\xa0 \\xa0 \\xa0 \\xa0 \\xa0   \\xa0 \\xa0trainable=False), \\xa0# Can be True, see below.\\n\\xa0 \\xa0 tf.keras.layers.Dense(num_classes, activation=\\'softmax\\')\\n])\\nm.build([None, expect_img_size, expect_img_size, 3]) \\xa0# Batch input shape.\\n'"
            ],
            "application/vnd.google.colaboratory.intrinsic+json": {
              "type": "string"
            }
          },
          "metadata": {},
          "execution_count": 5
        }
      ]
    },
    {
      "cell_type": "code",
      "source": [
        "MODULE_HANDLE = \"https://tfhub.dev/tensorflow/efficientnet/b0/feature-vector/1\"\n",
        "pixels = 224\n",
        "FV_SIZE = 1280\n",
        "IMAGE_SIZE =(pixels, pixels)\n",
        "\n",
        "feature_extractor = hub.KerasLayer(MODULE_HANDLE,\n",
        "                                   input_shape=IMAGE_SIZE + (3,),\n",
        "                                   output_shape=[FV_SIZE],\n",
        "                                   trainable=False)"
      ],
      "metadata": {
        "id": "xv0zmrvUFqVm"
      },
      "execution_count": null,
      "outputs": []
    },
    {
      "cell_type": "code",
      "source": [
        "'''NUM_LAYERS = 10\n",
        "\n",
        "if do_fine_tuning:\n",
        "    feature_extractor.trainable = True\n",
        "\n",
        "    for layer in model.layers[-NUM_LAYERS:]:\n",
        "        layer.trainable = True\n",
        "\n",
        "else:\n",
        "    feature_extractor.trainable = False'''"
      ],
      "metadata": {
        "id": "E1mwgytdLsKz",
        "colab": {
          "base_uri": "https://localhost:8080/",
          "height": 35
        },
        "outputId": "819a2647-6407-48fc-a904-2962f7a4a781"
      },
      "execution_count": null,
      "outputs": [
        {
          "output_type": "execute_result",
          "data": {
            "text/plain": [
              "'NUM_LAYERS = 10\\n\\nif do_fine_tuning:\\n    feature_extractor.trainable = True\\n\\n    for layer in model.layers[-NUM_LAYERS:]:\\n        layer.trainable = True\\n\\nelse:\\n    feature_extractor.trainable = False'"
            ],
            "application/vnd.google.colaboratory.intrinsic+json": {
              "type": "string"
            }
          },
          "metadata": {},
          "execution_count": 7
        }
      ]
    },
    {
      "cell_type": "markdown",
      "source": [
        "# Image Processing"
      ],
      "metadata": {
        "id": "b5vFyWWl5Fow"
      }
    },
    {
      "cell_type": "code",
      "source": [
        "data_dir =  \"/content/drive/Shareddrives/Pantura/colab_notebook/sih_road_dataset\"\n",
        "labels = [\"tidak_ada_kerusakan\", \"rendah\", \"sedang\", \"tinggi\"]\n",
        "x = []\n",
        "y = []\n",
        "for label in labels:\n",
        "    data = os.path.join(data_dir,label)\n",
        "    for image in os.listdir(data):\n",
        "        try:\n",
        "            img = cv2.imread(os.path.join(data, image), cv2.IMREAD_COLOR)\n",
        "            img = cv2.resize(img, IMAGE_SIZE)\n",
        "\n",
        "            x.append(img)\n",
        "            y.append(labels.index(label))\n",
        "\n",
        "        except Exception as e:\n",
        "            pass"
      ],
      "metadata": {
        "id": "SLITfcIc5dCE"
      },
      "execution_count": null,
      "outputs": []
    },
    {
      "cell_type": "code",
      "source": [
        "np.unique(y)\n",
        "np.unique(x)\n",
        "\n",
        "x = np.array(x)/255.0\n",
        "y = np.array(y)\n",
        "\n",
        "x.shape\n",
        "y.shape\n",
        "\n",
        "x = x.reshape(-1, pixels, pixels, 3)\n",
        "x.shape\n",
        "\n",
        "y = y.reshape(-1, 1)"
      ],
      "metadata": {
        "id": "0xKRB8CD8TOU"
      },
      "execution_count": null,
      "outputs": []
    },
    {
      "cell_type": "code",
      "source": [
        "y = tf.keras.utils.to_categorical(y, 4)\n",
        "\n",
        "from tensorflow.keras.preprocessing.image import ImageDataGenerator\n",
        "\n",
        "datagenerator = ImageDataGenerator(\n",
        "      width_shift_range=0.2,\n",
        "      height_shift_range=0.2,\n",
        "      shear_range=0.1,\n",
        "      zoom_range=0.1,\n",
        "      horizontal_flip=False,\n",
        "      vertical_flip=False,\n",
        "      fill_mode='nearest')\n",
        "\n",
        "datagenerator.fit(x)"
      ],
      "metadata": {
        "id": "90Limwn8CSVE"
      },
      "execution_count": null,
      "outputs": []
    },
    {
      "cell_type": "code",
      "source": [
        "from sklearn.model_selection import train_test_split\n",
        "x_train, x_test, y_train, y_test = train_test_split(x, y)"
      ],
      "metadata": {
        "id": "DcrbVoCbAWEV"
      },
      "execution_count": null,
      "outputs": []
    },
    {
      "cell_type": "code",
      "source": [
        "train_generator = datagenerator.flow(x_train, y_train, batch_size=32)\n",
        "val_generator = datagenerator.flow(x_test, y_test)"
      ],
      "metadata": {
        "id": "hqBXwQuaMj3r"
      },
      "execution_count": null,
      "outputs": []
    },
    {
      "cell_type": "markdown",
      "source": [
        "# Model"
      ],
      "metadata": {
        "id": "2n4JBdpgLb_T"
      }
    },
    {
      "cell_type": "markdown",
      "source": [
        "**Model**"
      ],
      "metadata": {
        "id": "mnUCx5HdLmHb"
      }
    },
    {
      "cell_type": "code",
      "source": [
        "model = tf.keras.Sequential([\n",
        "    feature_extractor,\n",
        "    tf.keras.layers.Dense(4, activation='softmax'),\n",
        "])\n",
        "\n",
        "#Load Weight\n",
        "model.load_weights('/content/drive/Shareddrives/Pantura/colab_notebook/checkpoints/')\n",
        "\n",
        "model.compile(\n",
        "    optimizer=tf.keras.optimizers.Adam(learning_rate=1e-3),\n",
        "    loss='categorical_crossentropy',\n",
        "    metrics=['accuracy']\n",
        ")\n",
        "\n",
        "model.summary()"
      ],
      "metadata": {
        "id": "hJ5bVnJDA6sp",
        "colab": {
          "base_uri": "https://localhost:8080/"
        },
        "outputId": "a36beea9-a9b7-4d69-a012-c47c678fa9ee"
      },
      "execution_count": null,
      "outputs": [
        {
          "output_type": "stream",
          "name": "stdout",
          "text": [
            "Model: \"sequential\"\n",
            "_________________________________________________________________\n",
            " Layer (type)                Output Shape              Param #   \n",
            "=================================================================\n",
            " keras_layer (KerasLayer)    (None, 1280)              4049564   \n",
            "                                                                 \n",
            " dense (Dense)               (None, 4)                 5124      \n",
            "                                                                 \n",
            "=================================================================\n",
            "Total params: 4,054,688\n",
            "Trainable params: 5,124\n",
            "Non-trainable params: 4,049,564\n",
            "_________________________________________________________________\n"
          ]
        }
      ]
    },
    {
      "cell_type": "code",
      "source": [
        "'''earlystop = tf.keras.callbacks.EarlyStopping(monitor='val_loss', patience=4, restore_best_weights=True)\n",
        "\n",
        "\n",
        "y_pred = model.predict(x_test)\n",
        "y_pred = np.argmax(y_pred, axis=1)\n",
        "\n",
        "y_true = np.argmax(y_test, axis=1)\n",
        "\n",
        "recall = recall_score(y_true, y_pred, average='weighted')\n",
        "\n",
        "precision = precision_score(y_true, y_pred, average='weighted')\n",
        "\n",
        "f1 = f1_score(y_true, y_pred, average='weighted')\n",
        "\n",
        "print('Recall:', recall)\n",
        "print('Precision:', precision)\n",
        "print('F1-score:', f1)\n",
        "\n",
        "model.fit(\n",
        "    train_generator,\n",
        "    epochs=1,\n",
        "    callbacks=[earlystop],\n",
        "    validation_data=val_generator\n",
        ")\n",
        "'''"
      ],
      "metadata": {
        "id": "1LOJdV56GDvb",
        "colab": {
          "base_uri": "https://localhost:8080/",
          "height": 71
        },
        "outputId": "7e08b088-0239-4346-e722-1c4c9ab6a735"
      },
      "execution_count": null,
      "outputs": [
        {
          "output_type": "execute_result",
          "data": {
            "text/plain": [
              "\"earlystop = tf.keras.callbacks.EarlyStopping(monitor='val_loss', patience=4, restore_best_weights=True)\\n\\n\\ny_pred = model.predict(x_test)\\ny_pred = np.argmax(y_pred, axis=1)\\n\\ny_true = np.argmax(y_test, axis=1)\\n\\nrecall = recall_score(y_true, y_pred, average='weighted')\\n\\nprecision = precision_score(y_true, y_pred, average='weighted')\\n\\nf1 = f1_score(y_true, y_pred, average='weighted')\\n\\nprint('Recall:', recall)\\nprint('Precision:', precision)\\nprint('F1-score:', f1)\\n\\nmodel.fit(\\n    train_generator,\\n    epochs=1,\\n    callbacks=[earlystop],\\n    validation_data=val_generator\\n)\\n\""
            ],
            "application/vnd.google.colaboratory.intrinsic+json": {
              "type": "string"
            }
          },
          "metadata": {},
          "execution_count": 14
        }
      ]
    },
    {
      "cell_type": "code",
      "source": [
        "#Save weight\n",
        "\n",
        "#weight_path_ckpt = \"/content/drive/Shareddrives/Pantura/colab_notebook/checkpoints/\"\n",
        "#model.save_weights(weight_path_ckpt)"
      ],
      "metadata": {
        "id": "sz3hKBB0Sp95"
      },
      "execution_count": null,
      "outputs": []
    },
    {
      "cell_type": "code",
      "source": [
        "#tf.keras.backend.clear_session()"
      ],
      "metadata": {
        "id": "vgkCwUiR3roK"
      },
      "execution_count": null,
      "outputs": []
    },
    {
      "cell_type": "code",
      "source": [
        "#tensorboard\n",
        "'''import datetime\n",
        "\n",
        "log_dir = \"logs/fit/\" + datetime.datetime.now().strftime(\"%Y%m%d-%H%M%S\")\n",
        "\n",
        "tensorboard_callback = tf.keras.callbacks.TensorBoard(log_dir=log_dir, histogram_freq=1)\n",
        "\n",
        "model.fit(\n",
        "    train_generator,\n",
        "    epochs=10,\n",
        "    callbacks=[tensorboard_callback],\n",
        "    validation_data=val_generator\n",
        ")'''"
      ],
      "metadata": {
        "id": "B7J9IMkM27QR",
        "colab": {
          "base_uri": "https://localhost:8080/",
          "height": 53
        },
        "outputId": "2b1efee1-b645-49cd-979c-259f44e4db29"
      },
      "execution_count": null,
      "outputs": [
        {
          "output_type": "execute_result",
          "data": {
            "text/plain": [
              "'import datetime\\n\\nlog_dir = \"logs/fit/\" + datetime.datetime.now().strftime(\"%Y%m%d-%H%M%S\")\\n\\ntensorboard_callback = tf.keras.callbacks.TensorBoard(log_dir=log_dir, histogram_freq=1)\\n\\nmodel.fit(\\n    train_generator,\\n    epochs=10,\\n    callbacks=[tensorboard_callback],\\n    validation_data=val_generator\\n)'"
            ],
            "application/vnd.google.colaboratory.intrinsic+json": {
              "type": "string"
            }
          },
          "metadata": {},
          "execution_count": 17
        }
      ]
    },
    {
      "cell_type": "code",
      "source": [
        "#!tensorboard dev upload --logdir ./logs"
      ],
      "metadata": {
        "id": "M-0MXwYN27QS"
      },
      "execution_count": null,
      "outputs": []
    },
    {
      "cell_type": "markdown",
      "source": [
        "# Saving Model\n",
        "\n"
      ],
      "metadata": {
        "id": "QCQXwB7nUcpL"
      }
    },
    {
      "cell_type": "code",
      "source": [
        "'''\n",
        "import pathlib\n",
        "\n",
        "# export the savedmodel\n",
        "export_dir = '/content/drive/Shareddrives/Pantura/colab_notebook/saved_model'\n",
        "tf.saved_model.save(model, export_dir)\n",
        "\n",
        "# convert the model\n",
        "converter = tf.lite.TFLiteConverter.from_saved_model(export_dir)\n",
        "tflite_model = converter.convert()\n",
        "\n",
        "#save the model\n",
        "tflite_model_file = pathlib.Path('/content/drive/Shareddrives/Pantura/colab_notebook/tflite_model/foo.tflite')\n",
        "tflite_model_file.write_bytes(tflite_model)\n",
        "'''"
      ],
      "metadata": {
        "colab": {
          "base_uri": "https://localhost:8080/",
          "height": 71
        },
        "id": "EN32xEhv5gz9",
        "outputId": "72c28e1c-0b81-4a29-d6f2-b98dad7b99ef"
      },
      "execution_count": null,
      "outputs": [
        {
          "output_type": "execute_result",
          "data": {
            "text/plain": [
              "\"\\nimport pathlib\\n\\n# export the savedmodel\\nexport_dir = '/content/drive/Shareddrives/Pantura/colab_notebook/saved_model'\\ntf.saved_model.save(model, export_dir)\\n\\n# convert the model\\nconverter = tf.lite.TFLiteConverter.from_saved_model(export_dir)\\ntflite_model = converter.convert()\\n\\n#save the model\\ntflite_model_file = pathlib.Path('/content/drive/Shareddrives/Pantura/colab_notebook/foo.tflite')\\ntflite_model_file.write_bytes(tflite_model)\\n\""
            ],
            "application/vnd.google.colaboratory.intrinsic+json": {
              "type": "string"
            }
          },
          "metadata": {},
          "execution_count": 19
        }
      ]
    },
    {
      "cell_type": "code",
      "source": [
        "# Save the entire model to a HDF5 file.\n",
        "# The '.h5' extension indicates that the model should be saved to HDF5.\n",
        "#model.save('my_model.h5')"
      ],
      "metadata": {
        "id": "iYBiH14rT2o3"
      },
      "execution_count": null,
      "outputs": []
    },
    {
      "cell_type": "code",
      "source": [
        "#model.json\n",
        "#!pip install tensorflowjs\n",
        "\n",
        "#!tensorflowjs_converter \\\n",
        "#    --input_format=keras \\\n",
        "#    /content/my_model.h5 \\\n",
        "#    /content/drive/Shareddrives/Pantura/colab_notebook/js_model"
      ],
      "metadata": {
        "id": "BFLuh7iH-zZk"
      },
      "execution_count": null,
      "outputs": []
    },
    {
      "cell_type": "code",
      "source": [
        "#!pip install tflite-support\n",
        "#!pip install absl-py"
      ],
      "metadata": {
        "colab": {
          "base_uri": "https://localhost:8080/"
        },
        "id": "nu6b3TrHwcCL",
        "outputId": "7dfb53b3-4a1b-4c43-ef9b-c350b3d3ac0f"
      },
      "execution_count": null,
      "outputs": [
        {
          "output_type": "stream",
          "name": "stdout",
          "text": [
            "Looking in indexes: https://pypi.org/simple, https://us-python.pkg.dev/colab-wheels/public/simple/\n",
            "Collecting tflite-support\n",
            "  Downloading tflite-support-0.1.0a1.tar.gz (390 kB)\n",
            "\u001b[2K     \u001b[90m━━━━━━━━━━━━━━━━━━━━━━━━━━━━━━━━━━━━━━━\u001b[0m \u001b[32m390.3/390.3 kB\u001b[0m \u001b[31m9.1 MB/s\u001b[0m eta \u001b[36m0:00:00\u001b[0m\n",
            "\u001b[?25h  Preparing metadata (setup.py) ... \u001b[?25l\u001b[?25hdone\n",
            "Collecting pybind11>=2.4 (from tflite-support)\n",
            "  Using cached pybind11-2.10.4-py3-none-any.whl (222 kB)\n",
            "Requirement already satisfied: absl-py>=0.7.0 in /usr/local/lib/python3.10/dist-packages (from tflite-support) (1.4.0)\n",
            "Requirement already satisfied: numpy in /usr/local/lib/python3.10/dist-packages (from tflite-support) (1.22.4)\n",
            "Building wheels for collected packages: tflite-support\n",
            "  Building wheel for tflite-support (setup.py) ... \u001b[?25l\u001b[?25hdone\n",
            "  Created wheel for tflite-support: filename=tflite_support-0.1.0a1-cp310-cp310-linux_x86_64.whl size=5942594 sha256=acf53d2f560f2e6a77f683c87ed46ce70f874edbaf43111559b2f2ea142fcb3c\n",
            "  Stored in directory: /root/.cache/pip/wheels/71/5c/da/9e5e661ec26e03ee57e69428d40fffbefe3c0aff649c55776d\n",
            "Successfully built tflite-support\n",
            "Installing collected packages: pybind11, tflite-support\n",
            "Successfully installed pybind11-2.10.4 tflite-support-0.1.0a1\n",
            "Looking in indexes: https://pypi.org/simple, https://us-python.pkg.dev/colab-wheels/public/simple/\n",
            "Requirement already satisfied: absl-py in /usr/local/lib/python3.10/dist-packages (1.4.0)\n"
          ]
        }
      ]
    },
    {
      "cell_type": "code",
      "source": [
        "#create metadata\n",
        "'''\n",
        "from tflite_support import flatbuffers\n",
        "from tflite_support import metadata as _metadata\n",
        "from tflite_support import metadata_schema_py_generated as _metadata_fb\n",
        "\n",
        "\"\"\" ... \"\"\"\n",
        "\"\"\"Creates the metadata for an image classifier.\"\"\"\n",
        "\n",
        "# Creates model info.\n",
        "model_meta = _metadata_fb.ModelMetadataT()\n",
        "model_meta.name = \"PanturaV1 road damage classifier\"\n",
        "model_meta.description = (\"Identify 4 different levels of road damages\")\n",
        "model_meta.version = \"v1\"\n",
        "model_meta.author = \"Pantura\"\n",
        "model_meta.license = (\"Apache License. Version 2.0 \"\n",
        "                      \"http://www.apache.org/licenses/LICENSE-2.0.\")\n",
        "\n",
        "# Creates input info.\n",
        "input_meta = _metadata_fb.TensorMetadataT()\n",
        "\n",
        "# Creates output info.\n",
        "output_meta = _metadata_fb.TensorMetadataT()\n",
        "\n",
        "input_meta.name = \"image\"\n",
        "input_meta.description = (\n",
        "    \"Input image to be classified. The expected image is {0} x {1}, with \"\n",
        "    \"three channels (red, blue, and green) per pixel. Each value in the \"\n",
        "    \"tensor is a single byte between 0 and 255.\".format(224, 224))\n",
        "input_meta.content = _metadata_fb.ContentT()\n",
        "input_meta.content.contentProperties = _metadata_fb.ImagePropertiesT()\n",
        "input_meta.content.contentProperties.colorSpace = (\n",
        "    _metadata_fb.ColorSpaceType.RGB)\n",
        "input_meta.content.contentPropertiesType = (\n",
        "    _metadata_fb.ContentProperties.ImageProperties)\n",
        "input_normalization = _metadata_fb.ProcessUnitT()\n",
        "input_normalization.optionsType = (\n",
        "    _metadata_fb.ProcessUnitOptions.NormalizationOptions)\n",
        "input_normalization.options = _metadata_fb.NormalizationOptionsT()\n",
        "input_normalization.options.mean = [127.5]\n",
        "input_normalization.options.std = [127.5]\n",
        "input_meta.processUnits = [input_normalization]\n",
        "input_stats = _metadata_fb.StatsT()\n",
        "input_stats.max = [255]\n",
        "input_stats.min = [0]\n",
        "input_meta.stats = input_stats\n",
        "\n",
        "# Creates output info.\n",
        "output_meta = _metadata_fb.TensorMetadataT()\n",
        "output_meta.name = \"probability\"\n",
        "output_meta.description = \"Probabilities of the 4 labels respectively.\"\n",
        "output_meta.content = _metadata_fb.ContentT()\n",
        "output_meta.content.content_properties = _metadata_fb.FeaturePropertiesT()\n",
        "output_meta.content.contentPropertiesType = (\n",
        "    _metadata_fb.ContentProperties.FeatureProperties)\n",
        "output_stats = _metadata_fb.StatsT()\n",
        "output_stats.max = [1.0]\n",
        "output_stats.min = [0.0]\n",
        "output_meta.stats = output_stats\n",
        "label_file = _metadata_fb.AssociatedFileT()\n",
        "label_file.name = os.path.basename(\"/content/drive/Shareddrives/Pantura/colab_notebook/tflite_model/label.txt\")\n",
        "label_file.description = \"Labels for 4 levels of road damages that the model can recognize.\"\n",
        "label_file.type = _metadata_fb.AssociatedFileType.TENSOR_AXIS_LABELS\n",
        "output_meta.associatedFiles = [label_file]\n",
        "\n",
        "# Creates subgraph info.\n",
        "subgraph = _metadata_fb.SubGraphMetadataT()\n",
        "subgraph.inputTensorMetadata = [input_meta]\n",
        "subgraph.outputTensorMetadata = [output_meta]\n",
        "model_meta.subgraphMetadata = [subgraph]\n",
        "\n",
        "b = flatbuffers.Builder(0)\n",
        "b.Finish(\n",
        "    model_meta.Pack(b),\n",
        "    _metadata.MetadataPopulator.METADATA_FILE_IDENTIFIER)\n",
        "metadata_buf = b.Output()\n",
        "\n",
        "\n",
        "\n",
        "populator = _metadata.MetadataPopulator.with_model_file(\"/content/drive/Shareddrives/Pantura/colab_notebook/tflite_model/foo.tflite\")\n",
        "populator.load_metadata_buffer(metadata_buf)\n",
        "#populator.load_associated_files([\"/content/drive/Shareddrives/Pantura/colab_notebook/tflite_model/label.txt\"])\n",
        "populator.populate()\n",
        "\n",
        "displayer = _metadata.MetadataDisplayer.with_model_file(\"/content/drive/Shareddrives/Pantura/colab_notebook/tflite_model/foo.tflite\")\n",
        "export_json_file = os.path.join(\"/content/drive/Shareddrives/Pantura/colab_notebook/tflite_model/\",\n",
        "                                os.path.splitext(\"foo_metadata\")[0] + \".json\")\n",
        "json_file = displayer.get_metadata_json()\n",
        "# Optional: write out the metadata as a json file\n",
        "with open(export_json_file, \"w\") as f:\n",
        "  f.write(json_file)\n",
        "'''"
      ],
      "metadata": {
        "colab": {
          "base_uri": "https://localhost:8080/"
        },
        "id": "MX7BbWVwttUm",
        "outputId": "05d495ef-217b-4f39-e6f5-e414fc319be5"
      },
      "execution_count": null,
      "outputs": [
        {
          "output_type": "stream",
          "name": "stderr",
          "text": [
            "/usr/lib/python3.10/zipfile.py:1519: UserWarning: Duplicate name: 'colab_notebook/'\n",
            "  return self._open_to_write(zinfo, force_zip64=force_zip64)\n"
          ]
        }
      ]
    },
    {
      "cell_type": "code",
      "source": [],
      "metadata": {
        "id": "Z9OkFcM_xROu"
      },
      "execution_count": null,
      "outputs": []
    }
  ]
}