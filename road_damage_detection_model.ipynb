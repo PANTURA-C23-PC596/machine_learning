{
  "nbformat": 4,
  "nbformat_minor": 0,
  "metadata": {
    "colab": {
      "provenance": [],
      "gpuType": "T4",
      "include_colab_link": true
    },
    "kernelspec": {
      "name": "python3",
      "display_name": "Python 3"
    },
    "language_info": {
      "name": "python"
    },
    "accelerator": "GPU"
  },
  "cells": [
    {
      "cell_type": "markdown",
      "metadata": {
        "id": "view-in-github",
        "colab_type": "text"
      },
      "source": [
        "<a href=\"https://colab.research.google.com/github/fatrrr/PANTURA-C23-PC596_machine_learning/blob/main/road_damage_detection_model.ipynb\" target=\"_parent\"><img src=\"https://colab.research.google.com/assets/colab-badge.svg\" alt=\"Open In Colab\"/></a>"
      ]
    },
    {
      "cell_type": "code",
      "source": [
        "try:\n",
        "    %tensorflow_version 2.x\n",
        "except:\n",
        "    pass"
      ],
      "metadata": {
        "id": "7ZTsZfNR-ixk"
      },
      "execution_count": null,
      "outputs": []
    },
    {
      "cell_type": "code",
      "execution_count": null,
      "metadata": {
        "id": "zk4sDfey0mHc"
      },
      "outputs": [],
      "source": [
        "import tensorflow as tf\n",
        "import os\n",
        "import sklearn"
      ]
    },
    {
      "cell_type": "markdown",
      "source": [
        "**Google Drive**"
      ],
      "metadata": {
        "id": "zSLhvB6GWDpZ"
      }
    },
    {
      "cell_type": "code",
      "source": [
        "# Mount to Google Drive\n",
        "from google.colab import drive\n",
        "drive.mount('/content/drive')"
      ],
      "metadata": {
        "id": "9Hj36wwq7ePl"
      },
      "execution_count": null,
      "outputs": []
    },
    {
      "cell_type": "code",
      "source": [
        "# Extract data.zip\n",
        "import zipfile\n",
        "\n",
        "zip_dir = \"/content/drive/Shareddrives/Pantura/colab_notebook/road_damage_prioritize_dataset.zip\"\n",
        "destination_dir= \"/content/drive/Shareddrives/Pantura/colab_notebook/\"\n",
        "\n",
        "with zipfile.ZipFile(zip_dir, 'r') as zip_ref:\n",
        "  zip_ref.extractall(destination_dir)\n",
        "\n",
        "zip_ref.close()"
      ],
      "metadata": {
        "id": "bE-9rG4S0zGt"
      },
      "execution_count": null,
      "outputs": []
    },
    {
      "cell_type": "markdown",
      "source": [
        "**Transfer Learning**"
      ],
      "metadata": {
        "id": "t0BeVquiFnW8"
      }
    },
    {
      "cell_type": "code",
      "source": [
        "# Transfer learning EfficientNetV1 B0 Feature Vector\n",
        "import tensorflow_hub as hub\n",
        "\n",
        "MODULE_HANDLE = \"https://tfhub.dev/tensorflow/efficientnet/b0/feature-vector/1\"\n",
        "pixels = 224\n",
        "FV_SIZE = 1280\n",
        "IMAGE_SIZE =(pixels, pixels)\n",
        "\n",
        "feature_extractor = hub.KerasLayer(MODULE_HANDLE,\n",
        "                                   input_shape=IMAGE_SIZE + (3,),\n",
        "                                   output_shape=[FV_SIZE],\n",
        "                                   trainable=False)"
      ],
      "metadata": {
        "id": "xv0zmrvUFqVm"
      },
      "execution_count": null,
      "outputs": []
    },
    {
      "cell_type": "code",
      "source": [
        "# Fine tuning\n",
        "'''\n",
        "NUM_LAYERS = 10\n",
        "\n",
        "if do_fine_tuning:\n",
        "    feature_extractor.trainable = True\n",
        "\n",
        "    for layer in model.layers[-NUM_LAYERS:]:\n",
        "        layer.trainable = True\n",
        "\n",
        "else:\n",
        "    feature_extractor.trainable = False\n",
        "'''"
      ],
      "metadata": {
        "id": "E1mwgytdLsKz"
      },
      "execution_count": null,
      "outputs": []
    },
    {
      "cell_type": "markdown",
      "source": [
        "# Image Processing"
      ],
      "metadata": {
        "id": "b5vFyWWl5Fow"
      }
    },
    {
      "cell_type": "code",
      "source": [
        "# Load data\n",
        "import cv2\n",
        "\n",
        "data_dir =  \"/content/drive/Shareddrives/Pantura/colab_notebook/sih_road_dataset\"\n",
        "labels = [\"tidak_ada_kerusakan\", \"rendah\", \"sedang\", \"tinggi\"]\n",
        "x = []\n",
        "y = []\n",
        "for label in labels:\n",
        "    data = os.path.join(data_dir,label)\n",
        "    for image in os.listdir(data):\n",
        "        try:\n",
        "            img = cv2.imread(os.path.join(data, image), cv2.IMREAD_COLOR)\n",
        "            img = cv2.resize(img, IMAGE_SIZE)\n",
        "\n",
        "            x.append(img)\n",
        "            y.append(labels.index(label))\n",
        "\n",
        "        except Exception as e:\n",
        "            pass"
      ],
      "metadata": {
        "id": "SLITfcIc5dCE"
      },
      "execution_count": null,
      "outputs": []
    },
    {
      "cell_type": "code",
      "source": [
        "# Resize images\n",
        "import numpy as np\n",
        "\n",
        "np.unique(y)\n",
        "np.unique(x)\n",
        "\n",
        "x = np.array(x)/255.0\n",
        "y = np.array(y)\n",
        "\n",
        "x.shape\n",
        "y.shape\n",
        "\n",
        "x = x.reshape(-1, pixels, pixels, 3)\n",
        "x.shape\n",
        "\n",
        "y = y.reshape(-1, 1)"
      ],
      "metadata": {
        "id": "0xKRB8CD8TOU"
      },
      "execution_count": null,
      "outputs": []
    },
    {
      "cell_type": "code",
      "source": [
        "# One-hot encode label data\n",
        "y = tf.keras.utils.to_categorical(y, 4)"
      ],
      "metadata": {
        "id": "qpkmFdrHScN6"
      },
      "execution_count": null,
      "outputs": []
    },
    {
      "cell_type": "code",
      "source": [
        "# Augment data\n",
        "from tensorflow.keras.preprocessing.image import ImageDataGenerator\n",
        "\n",
        "datagenerator = ImageDataGenerator(\n",
        "      width_shift_range=0.2,\n",
        "      height_shift_range=0.2,\n",
        "      shear_range=0.1,\n",
        "      zoom_range=0.1,\n",
        "      horizontal_flip=False,\n",
        "      vertical_flip=False,\n",
        "      fill_mode='nearest')\n",
        "\n",
        "datagenerator.fit(x)"
      ],
      "metadata": {
        "id": "90Limwn8CSVE"
      },
      "execution_count": null,
      "outputs": []
    },
    {
      "cell_type": "code",
      "source": [
        "# Split dataset\n",
        "from sklearn.model_selection import train_test_split\n",
        "x_train, x_test, y_train, y_test = train_test_split(x, y)"
      ],
      "metadata": {
        "id": "DcrbVoCbAWEV"
      },
      "execution_count": null,
      "outputs": []
    },
    {
      "cell_type": "code",
      "source": [
        "# Batch data\n",
        "train_generator = datagenerator.flow(x_train, y_train, batch_size=32)\n",
        "val_generator = datagenerator.flow(x_test, y_test)"
      ],
      "metadata": {
        "id": "hqBXwQuaMj3r"
      },
      "execution_count": null,
      "outputs": []
    },
    {
      "cell_type": "markdown",
      "source": [
        "# Model"
      ],
      "metadata": {
        "id": "2n4JBdpgLb_T"
      }
    },
    {
      "cell_type": "markdown",
      "source": [
        "**Model**"
      ],
      "metadata": {
        "id": "mnUCx5HdLmHb"
      }
    },
    {
      "cell_type": "code",
      "source": [
        "model = tf.keras.Sequential([\n",
        "    feature_extractor,\n",
        "    tf.keras.layers.Dense(4, activation='softmax'),\n",
        "])\n",
        "\n",
        "# Load weight\n",
        "model.load_weights('/content/drive/Shareddrives/Pantura/colab_notebook/checkpoints/')\n",
        "\n",
        "# Compile model\n",
        "model.compile(\n",
        "    optimizer=tf.keras.optimizers.Adam(learning_rate=1e-3),\n",
        "    loss='categorical_crossentropy',\n",
        "    metrics=['accuracy']\n",
        ")\n",
        "\n",
        "model.summary()"
      ],
      "metadata": {
        "id": "hJ5bVnJDA6sp"
      },
      "execution_count": null,
      "outputs": []
    },
    {
      "cell_type": "code",
      "source": [
        "# Callback\n",
        "earlystop = tf.keras.callbacks.EarlyStopping(monitor='val_loss', patience=4, restore_best_weights=True)\n",
        "\n",
        "# Training\n",
        "model.fit(\n",
        "    train_generator,\n",
        "    epochs=5,\n",
        "    callbacks=[earlystop],\n",
        "    validation_data=val_generator\n",
        ")"
      ],
      "metadata": {
        "id": "1LOJdV56GDvb"
      },
      "execution_count": null,
      "outputs": []
    },
    {
      "cell_type": "code",
      "source": [
        "# Save weight\n",
        "\n",
        "weight_path_ckpt = \"/content/drive/Shareddrives/Pantura/colab_notebook/checkpoints/\"\n",
        "model.save_weights(weight_path_ckpt)"
      ],
      "metadata": {
        "id": "sz3hKBB0Sp95"
      },
      "execution_count": null,
      "outputs": []
    },
    {
      "cell_type": "code",
      "source": [
        "# Clear session\n",
        "tf.keras.backend.clear_session()"
      ],
      "metadata": {
        "id": "vgkCwUiR3roK"
      },
      "execution_count": null,
      "outputs": []
    },
    {
      "cell_type": "markdown",
      "source": [
        "**Model Evaluation**"
      ],
      "metadata": {
        "id": "9nXw36WbRWWL"
      }
    },
    {
      "cell_type": "code",
      "source": [
        "# Evaluate model\n",
        "from sklearn.metrics import precision_score, recall_score, f1_score\n",
        "\n",
        "y_pred = model.predict(x_test)\n",
        "y_pred = np.argmax(y_pred, axis=1)\n",
        "\n",
        "y_true = np.argmax(y_test, axis=1)\n",
        "\n",
        "recall = recall_score(y_true, y_pred, average='weighted')\n",
        "\n",
        "precision = precision_score(y_true, y_pred, average='weighted')\n",
        "\n",
        "f1 = f1_score(y_true, y_pred, average='weighted')\n",
        "\n",
        "print('Recall:', recall)\n",
        "print('Precision:', precision)\n",
        "print('F1-score:', f1)"
      ],
      "metadata": {
        "id": "D_qNZC4FRYI6"
      },
      "execution_count": null,
      "outputs": []
    },
    {
      "cell_type": "markdown",
      "source": [
        "**Tensorboard**"
      ],
      "metadata": {
        "id": "yRCDHpZpP0o9"
      }
    },
    {
      "cell_type": "code",
      "source": [
        "# Tensorboard\n",
        "import datetime\n",
        "\n",
        "log_dir = \"logs/fit/\" + datetime.datetime.now().strftime(\"%Y%m%d-%H%M%S\")\n",
        "\n",
        "tensorboard_callback = tf.keras.callbacks.TensorBoard(log_dir=log_dir, histogram_freq=1)\n",
        "\n",
        "model.fit(\n",
        "    train_generator,\n",
        "    epochs=10,\n",
        "    callbacks=[tensorboard_callback],\n",
        "    validation_data=val_generator\n",
        ")"
      ],
      "metadata": {
        "id": "B7J9IMkM27QR"
      },
      "execution_count": null,
      "outputs": []
    },
    {
      "cell_type": "code",
      "source": [
        "# Launch Tensorboard\n",
        "!tensorboard dev upload --logdir ./logs"
      ],
      "metadata": {
        "id": "M-0MXwYN27QS"
      },
      "execution_count": null,
      "outputs": []
    },
    {
      "cell_type": "markdown",
      "source": [
        "# Saving Model\n",
        "\n"
      ],
      "metadata": {
        "id": "QCQXwB7nUcpL"
      }
    },
    {
      "cell_type": "code",
      "source": [
        "# Export the savedmodel\n",
        "export_dir = '/content/drive/Shareddrives/Pantura/colab_notebook/Model/saved_model'\n",
        "tf.saved_model.save(model, export_dir)"
      ],
      "metadata": {
        "id": "EN32xEhv5gz9"
      },
      "execution_count": null,
      "outputs": []
    },
    {
      "cell_type": "code",
      "source": [
        "# Model.tflite\n",
        "import pathlib\n",
        "\n",
        "# Convert the model to tflite\n",
        "converter = tf.lite.TFLiteConverter.from_saved_model(export_dir)\n",
        "tflite_model = converter.convert()\n",
        "\n",
        "# Save the model\n",
        "tflite_model_file = pathlib.Path('/content/drive/Shareddrives/Pantura/colab_notebook/Model/tflite_model/foo.tflite')\n",
        "tflite_model_file.write_bytes(tflite_model)"
      ],
      "metadata": {
        "id": "RoPbQM4QQtVU"
      },
      "execution_count": null,
      "outputs": []
    },
    {
      "cell_type": "code",
      "source": [
        "# Model.h5\n",
        "model.save('my_model.h5')"
      ],
      "metadata": {
        "id": "iYBiH14rT2o3"
      },
      "execution_count": null,
      "outputs": []
    },
    {
      "cell_type": "code",
      "source": [
        "# Model.json\n",
        "!pip install tensorflowjs\n",
        "\n",
        "!tensorflowjs_converter \\\n",
        "    --input_format=keras \\\n",
        "    /content/my_model.h5 \\\n",
        "    /content/drive/Shareddrives/Pantura/colab_notebook/Model/js_model"
      ],
      "metadata": {
        "id": "BFLuh7iH-zZk"
      },
      "execution_count": null,
      "outputs": []
    },
    {
      "cell_type": "markdown",
      "source": [
        "# Metadata Creation"
      ],
      "metadata": {
        "id": "BR8OvrPUP6n8"
      }
    },
    {
      "cell_type": "code",
      "source": [
        "# Create Metadata\n",
        "\n",
        "!pip install tflite-support\n",
        "!pip install absl-py\n",
        "\n",
        "from tflite_support import flatbuffers\n",
        "from tflite_support import metadata as _metadata\n",
        "from tflite_support import metadata_schema_py_generated as _metadata_fb\n",
        "\n",
        "\"\"\"Creates the metadata for an image classifier.\"\"\"\n",
        "\n",
        "# Creates model info.\n",
        "model_meta = _metadata_fb.ModelMetadataT()\n",
        "model_meta.name = \"PanturaV1 road damage classifier\"\n",
        "model_meta.description = (\"Identify 4 different levels of road damages\")\n",
        "model_meta.version = \"v1\"\n",
        "model_meta.author = \"Pantura\"\n",
        "model_meta.license = (\"Apache License. Version 2.0 \"\n",
        "                      \"http://www.apache.org/licenses/LICENSE-2.0.\")\n",
        "\n",
        "# Creates input info.\n",
        "input_meta = _metadata_fb.TensorMetadataT()\n",
        "\n",
        "# Creates output info.\n",
        "output_meta = _metadata_fb.TensorMetadataT()\n",
        "\n",
        "input_meta.name = \"image\"\n",
        "input_meta.description = (\n",
        "    \"Input image to be classified. The expected image is {0} x {1}, with \"\n",
        "    \"three channels (red, blue, and green) per pixel. Each value in the \"\n",
        "    \"tensor is a single byte between 0 and 255.\".format(224, 224))\n",
        "input_meta.content = _metadata_fb.ContentT()\n",
        "input_meta.content.contentProperties = _metadata_fb.ImagePropertiesT()\n",
        "input_meta.content.contentProperties.colorSpace = (\n",
        "    _metadata_fb.ColorSpaceType.RGB)\n",
        "input_meta.content.contentPropertiesType = (\n",
        "    _metadata_fb.ContentProperties.ImageProperties)\n",
        "input_normalization = _metadata_fb.ProcessUnitT()\n",
        "input_normalization.optionsType = (\n",
        "    _metadata_fb.ProcessUnitOptions.NormalizationOptions)\n",
        "input_normalization.options = _metadata_fb.NormalizationOptionsT()\n",
        "input_normalization.options.mean = [127.5]\n",
        "input_normalization.options.std = [127.5]\n",
        "input_meta.processUnits = [input_normalization]\n",
        "input_stats = _metadata_fb.StatsT()\n",
        "input_stats.max = [255]\n",
        "input_stats.min = [0]\n",
        "input_meta.stats = input_stats\n",
        "\n",
        "# Creates output info.\n",
        "output_meta = _metadata_fb.TensorMetadataT()\n",
        "output_meta.name = \"probability\"\n",
        "output_meta.description = \"Probabilities of the 4 labels respectively.\"\n",
        "output_meta.content = _metadata_fb.ContentT()\n",
        "output_meta.content.content_properties = _metadata_fb.FeaturePropertiesT()\n",
        "output_meta.content.contentPropertiesType = (\n",
        "    _metadata_fb.ContentProperties.FeatureProperties)\n",
        "output_stats = _metadata_fb.StatsT()\n",
        "output_stats.max = [1.0]\n",
        "output_stats.min = [0.0]\n",
        "output_meta.stats = output_stats\n",
        "label_file = _metadata_fb.AssociatedFileT()\n",
        "label_file.name = os.path.basename(\"/content/drive/Shareddrives/Pantura/colab_notebook/Model/tflite_model/label.txt\")\n",
        "label_file.description = \"Labels for 4 levels of road damages that the model can recognize.\"\n",
        "label_file.type = _metadata_fb.AssociatedFileType.TENSOR_AXIS_LABELS\n",
        "output_meta.associatedFiles = [label_file]\n",
        "\n",
        "# Creates subgraph info.\n",
        "subgraph = _metadata_fb.SubGraphMetadataT()\n",
        "subgraph.inputTensorMetadata = [input_meta]\n",
        "subgraph.outputTensorMetadata = [output_meta]\n",
        "model_meta.subgraphMetadata = [subgraph]\n",
        "\n",
        "b = flatbuffers.Builder(0)\n",
        "b.Finish(\n",
        "    model_meta.Pack(b),\n",
        "    _metadata.MetadataPopulator.METADATA_FILE_IDENTIFIER)\n",
        "metadata_buf = b.Output()\n",
        "\n",
        "populator = _metadata.MetadataPopulator.with_model_file(\"/content/drive/Shareddrives/Pantura/colab_notebook/Model/tflite_model/foo.tflite\")\n",
        "populator.load_metadata_buffer(metadata_buf)\n",
        "#populator.load_associated_files([\"/content/drive/Shareddrives/Pantura/colab_notebook/Model/tflite_model/label.txt\"])\n",
        "populator.populate()\n",
        "\n",
        "displayer = _metadata.MetadataDisplayer.with_model_file(\"/content/drive/Shareddrives/Pantura/colab_notebook/Model/tflite_model/foo.tflite\")\n",
        "export_json_file = os.path.join(\"/content/drive/Shareddrives/Pantura/colab_notebook/Model/tflite_model/\",\n",
        "                                os.path.splitext(\"foo_metadata\")[0] + \".json\")\n",
        "json_file = displayer.get_metadata_json()\n",
        "# Optional: write out the metadata as a json file\n",
        "with open(export_json_file, \"w\") as f:\n",
        "  f.write(json_file)"
      ],
      "metadata": {
        "id": "MX7BbWVwttUm"
      },
      "execution_count": null,
      "outputs": []
    }
  ]
}
